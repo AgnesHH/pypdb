{
 "cells": [
  {
   "cell_type": "code",
   "execution_count": 1,
   "metadata": {
    "collapsed": false
   },
   "outputs": [
    {
     "name": "stdout",
     "output_type": "stream",
     "text": [
      "Populating the interactive namespace from numpy and matplotlib\n"
     ]
    }
   ],
   "source": [
    "%pylab inline"
   ]
  },
  {
   "cell_type": "code",
   "execution_count": 2,
   "metadata": {
    "collapsed": false
   },
   "outputs": [],
   "source": [
    "from pypdb.pypdb import *"
   ]
  },
  {
   "cell_type": "markdown",
   "metadata": {},
   "source": [
    "## Get a list of PDBs for a specific search term"
   ]
  },
  {
   "cell_type": "code",
   "execution_count": 3,
   "metadata": {
    "collapsed": false
   },
   "outputs": [
    {
     "name": "stdout",
     "output_type": "stream",
     "text": [
      "['1D7M', '3W3D', '4A7H', '4A7L', '4A7N']\n"
     ]
    }
   ],
   "source": [
    "search_dict = make_query('actin network')\n",
    "found_pdbs = do_search(search_dict)\n",
    "print(found_pdbs)"
   ]
  },
  {
   "cell_type": "markdown",
   "metadata": {},
   "source": [
    "## Get a list of PDBs associated with a specific modified structure"
   ]
  },
  {
   "cell_type": "code",
   "execution_count": 4,
   "metadata": {
    "collapsed": false
   },
   "outputs": [
    {
     "name": "stdout",
     "output_type": "stream",
     "text": [
      "['1DDK', '1EYB', '1KAE', '1KMN', '1O62', '1SNM', '1TE2', '1YWV', '1YXS', '1YXT', '1YXX', '2B3U', '2B3V', '2FPU', '2KSL', '2MQL', '2MQM', '2MQN', '2O0W', '2P22', '2RDZ', '3D4S', '3EFX', '3IOR', '3IOT', '3IOU', '3IOV', '3IOW', '3KRY', '3P49', '3R5X', '3TQ8', '3TQ9', '3TQA', '3TQB', '3TQC', '3TQD', '3TQE', '3TQF', '3TQG', '3TQH', '3TQI', '3TQJ', '3TQL', '3TQM', '3TQN', '3TQO', '3TQP', '3TQQ', '3TQR', '3TQS', '3TQT', '3TQU', '3TQW', '3TQX', '3TQY', '3TQZ', '3TR0', '3TR1', '3TR2', '3TR3', '3TR4', '3TR5', '3TR6', '3TR7', '3TR8', '3TR9', '3TRB', '3TRC', '3TRD', '3TRE', '3TRF', '3TRG', '3TRH', '3TRI', '3TTH', '3TY2', '3U8P', '3UWC', '3VFG', '4AJX', '4B18', '4BP0', '4D51', '4D5B', '4D5D', '4D6A', '4D6B', '4F3Q', '4F3R', '4FER', '4FFT', '4FG2', '4FG4', '4GYF', '4IET', '4JCW', '4JHU', '4JHV', '4K0U', '4KRZ', '4KS0', '4L48', '4MUO', '4NBQ', '4NH2', '4NHP', '4NHQ', '4NHS', '4NHT', '4NIJ', '4NVA', '4NVB', '4NVC', '4NVD', '4NVE', '4NVF', '4NVG', '4NVH', '4NVI', '4NVJ', '4NVK', '4NVL', '4NVM', '4NVN', '4NVO', '4O8Q', '4OMJ', '4OMK', '4OP1', '4OP2', '4OP3', '4OQ7', '4OVF', '4OVG', '4OVH', '4PCW', '4PNU', '4PNV', '4PNW', '4PWS', '4Q5P', '4QDA', '4QDB', '4QKQ', '4QL0', '4QL6', '4RHT', '4RHU', '4RHX', '4RHY', '4RJ1', '4RKL', '4RKM', '4RKN', '4RKV', '4RL9', '4RLB', '4RLC', '4RNE', '4RZ7', '4TPV', '4U8U', '4UI9', '4V1T', '4V1U', '4V1V', '4V3G', '4V3H', '4WCH', '4X36', '4X8K', '4XAU', '4XF6', '4XF7', '4XLI', '4XV4', '4XV5', '4XV6', '4XV7', '4XV8', '4XVA', '4XY2', '4Y05', '4Y83', '4Y85', '4YPG', '4YS0', '4YXP', '4Z0V', '4Z29', '4Z2B', '4ZDV', '4ZIR', '4ZJR', '4ZJW', '4ZKD', '4ZKE', '4ZKF', '4ZOM', '4ZQX', '4ZWV', '5A1A', '5AGV', '5BRW']\n"
     ]
    }
   ],
   "source": [
    "search_dict = make_query('3W3D',querytype='ModifiedStructuresQuery')\n",
    "found_pdbs = do_search(search_dict)\n",
    "print(found_pdbs)"
   ]
  },
  {
   "cell_type": "markdown",
   "metadata": {},
   "source": [
    "## Get a list of PDBs associated with a specific experimental method"
   ]
  },
  {
   "cell_type": "code",
   "execution_count": 5,
   "metadata": {
    "collapsed": false
   },
   "outputs": [
    {
     "name": "stdout",
     "output_type": "stream",
     "text": [
      "['1CEK', '1EQ8', '1M8M', '1MAG', '1MP6', '1MZT', '1NH4', '1NYJ', '1PI7', '1PI8', '1PJD', '1PJE', '1PJF', '1Q7O', '1RVS', '1XSW', '1ZN5', '1ZY6', '2C0X', '2CZP', '2E8D', '2H3O', '2H95', '2JSV', '2JU6', '2JZZ', '2K0P', '2KAD', '2KB7', '2KHT', '2KIB', '2KJ3', '2KLR', '2KQ4', '2KQT', '2KRJ', '2KSJ', '2KWD', '2KYV', '2L0J', '2L3Z', '2LBU', '2LEG', '2LGI', '2LJ2', '2LME', '2LMN', '2LMO', '2LMP', '2LMQ', '2LNL', '2LNQ', '2LNY', '2LPZ', '2LTQ', '2LU5', '2M02', '2M3B', '2M3G', '2M4J', '2M5K', '2M5M', '2M5N', '2M67', '2MC7', '2MCU', '2MCV', '2MCW', '2MCX', '2MEX', '2MJZ', '2MME', '2MMU', '2MPZ', '2MSG', '2MTZ', '2MVX', '2MXU', '2N0R', '2NNT', '2RLZ', '2UVS', '2W0N', '2XKM', '3ZPK']\n"
     ]
    }
   ],
   "source": [
    "search_dict = make_query('SOLID-STATE NMR',querytype='ExpTypeQuery')\n",
    "found_pdbs = do_search(search_dict)\n",
    "print(found_pdbs)"
   ]
  },
  {
   "cell_type": "code",
   "execution_count": 6,
   "metadata": {
    "collapsed": false
   },
   "outputs": [
    {
     "data": {
      "text/plain": [
       "{'citation_authors': 'Malashkevich, V.N., Bhosle, R., Toro, R., Hillerich, B., Gizzi, A., Garforth, S., Kar, A., Chan, M.K., Lafluer, J., Patel, H., Matikainen, B., Chamala, S., Lim, S., Celikgil, A., Villegas, G., Evans, B., Love, J., Fiser, A., Khafizov, K., Seidel, R., Bonanno, J.B., Almo, S.C.',\n",
       " 'deposition_date': '2013-07-31',\n",
       " 'expMethod': 'X-RAY DIFFRACTION',\n",
       " 'keywords': 'TRANSFERASE',\n",
       " 'last_modification_date': '2013-08-14',\n",
       " 'nr_atoms': '0',\n",
       " 'nr_entities': '1',\n",
       " 'nr_residues': '390',\n",
       " 'release_date': '2013-08-14',\n",
       " 'resolution': '1.84',\n",
       " 'status': 'CURRENT',\n",
       " 'structureId': '4LZA',\n",
       " 'structure_authors': 'Malashkevich, V.N., Bhosle, R., Toro, R., Hillerich, B., Gizzi, A., Garforth, S., Kar, A., Chan, M.K., Lafluer, J., Patel, H., Matikainen, B., Chamala, S., Lim, S., Celikgil, A., Villegas, G., Evans, B., Love, J., Fiser, A., Khafizov, K., Seidel, R., Bonanno, J.B., Almo, S.C., New York Structural Genomics Research Consortium (NYSGRC)',\n",
       " 'title': 'Crystal structure of adenine phosphoribosyltransferase from Thermoanaerobacter pseudethanolicus ATCC 33223, NYSGRC Target 029700.'}"
      ]
     },
     "execution_count": 6,
     "metadata": {},
     "output_type": "execute_result"
    }
   ],
   "source": [
    "describe_pdb('4lza')"
   ]
  },
  {
   "cell_type": "markdown",
   "metadata": {},
   "source": [
    "## Estimate total number of depositions versus time"
   ]
  },
  {
   "cell_type": "code",
   "execution_count": 7,
   "metadata": {
    "collapsed": false
   },
   "outputs": [
    {
     "data": {
      "image/png": "[encoded data removed]",
      "text/plain": [
       "<matplotlib.figure.Figure at 0x103bcbb38>"
      ]
     },
     "metadata": {},
     "output_type": "display_data"
    },
    {
     "data": {
      "text/plain": [
       "[<matplotlib.lines.Line2D at 0x106e30b70>]"
      ]
     },
     "execution_count": 7,
     "metadata": {},
     "output_type": "execute_result"
    },
    {
     "data": {
      "image/png": "[encoded data removed]",
      "text/plain": [
       "<matplotlib.figure.Figure at 0x109cd7f98>"
      ]
     },
     "metadata": {},
     "output_type": "display_data"
    }
   ],
   "source": [
    "# Choose a random sample because we don't want to call the database for every single entry\n",
    "from random import choice\n",
    "\n",
    "all_pdbs = get_all()\n",
    "\n",
    "all_dates = list()\n",
    "\n",
    "for ii in range(100):\n",
    "    pdb_desc = describe_pdb( choice(all_pdbs) )\n",
    "    depdate = (pdb_desc['deposition_date'])\n",
    "    all_dates.append( int(depdate[:4]) )\n",
    "    \n",
    "all_dates = array(all_dates)\n",
    "\n",
    "figure()\n",
    "subs_v_time = hist(all_dates, max(all_dates)-min(all_dates))\n",
    "show(subs_v_time)   \n",
    "\n",
    "# Show power-law scaling\n",
    "figure()\n",
    "loglog(subs_v_time[0],'.')"
   ]
  },
  {
   "cell_type": "markdown",
   "metadata": {},
   "source": [
    "### Find the number of references to CRISPR over time"
   ]
  },
  {
   "cell_type": "code",
   "execution_count": 8,
   "metadata": {
    "collapsed": false
   },
   "outputs": [
    {
     "data": {
      "image/png": "[encoded data removed]",
      "text/plain": [
       "<matplotlib.figure.Figure at 0x109193a20>"
      ]
     },
     "metadata": {},
     "output_type": "display_data"
    }
   ],
   "source": [
    "search_dict = make_query('CRISPR')\n",
    "crispr_results = do_search(search_dict)\n",
    "\n",
    "\n",
    "all_pdbs = get_all()\n",
    "\n",
    "all_dates = list()\n",
    "\n",
    "for pdb in crispr_results:\n",
    "    pdb_desc = describe_pdb( pdb )\n",
    "    depdate = (pdb_desc['deposition_date'])\n",
    "    all_dates.append( int(depdate[:4]) )\n",
    "    \n",
    "all_dates = array(all_dates)\n",
    "subs_v_time = hist(all_dates, max(all_dates)-min(all_dates))\n",
    "show(subs_v_time)   "
   ]
  },
  {
   "cell_type": "code",
   "execution_count": null,
   "metadata": {
    "collapsed": true
   },
   "outputs": [],
   "source": []
  }
 ],
 "metadata": {
  "kernelspec": {
   "display_name": "Python 3",
   "language": "python",
   "name": "python3"
  },
  "language_info": {
   "codemirror_mode": {
    "name": "ipython",
    "version": 3
   },
   "file_extension": ".py",
   "mimetype": "text/x-python",
   "name": "python",
   "nbconvert_exporter": "python",
   "pygments_lexer": "ipython3",
   "version": "3.4.3"
  }
 },
 "nbformat": 4,
 "nbformat_minor": 0
}
