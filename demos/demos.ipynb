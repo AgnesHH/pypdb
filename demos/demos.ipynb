{
 "cells": [
  {
   "cell_type": "code",
   "execution_count": 1,
   "metadata": {
    "collapsed": false
   },
   "outputs": [
    {
     "name": "stdout",
     "output_type": "stream",
     "text": [
      "Populating the interactive namespace from numpy and matplotlib\n"
     ]
    }
   ],
   "source": [
    "%pylab inline"
   ]
  },
  {
   "cell_type": "code",
   "execution_count": 2,
   "metadata": {
    "collapsed": false
   },
   "outputs": [],
   "source": [
    "from pypdb import *"
   ]
  },
  {
   "cell_type": "markdown",
   "metadata": {},
   "source": [
    "## Get a list of PDBs for a specific search term"
   ]
  },
  {
   "cell_type": "code",
   "execution_count": 3,
   "metadata": {
    "collapsed": false
   },
   "outputs": [
    {
     "ename": "NameError",
     "evalue": "name 'make_query' is not defined",
     "output_type": "error",
     "traceback": [
      "\u001b[0;31m---------------------------------------------------------------------------\u001b[0m",
      "\u001b[0;31mNameError\u001b[0m                                 Traceback (most recent call last)",
      "\u001b[0;32m<ipython-input-3-04650ce38a8a>\u001b[0m in \u001b[0;36m<module>\u001b[0;34m()\u001b[0m\n\u001b[0;32m----> 1\u001b[0;31m \u001b[0msearch_dict\u001b[0m \u001b[0;34m=\u001b[0m \u001b[0mmake_query\u001b[0m\u001b[0;34m(\u001b[0m\u001b[0;34m'actin network'\u001b[0m\u001b[0;34m)\u001b[0m\u001b[0;34m\u001b[0m\u001b[0m\n\u001b[0m\u001b[1;32m      2\u001b[0m \u001b[0mfound_pdbs\u001b[0m \u001b[0;34m=\u001b[0m \u001b[0mdo_search\u001b[0m\u001b[0;34m(\u001b[0m\u001b[0msearch_dict\u001b[0m\u001b[0;34m)\u001b[0m\u001b[0;34m\u001b[0m\u001b[0m\n\u001b[1;32m      3\u001b[0m \u001b[0mprint\u001b[0m\u001b[0;34m(\u001b[0m\u001b[0mfound_pdbs\u001b[0m\u001b[0;34m)\u001b[0m\u001b[0;34m\u001b[0m\u001b[0m\n",
      "\u001b[0;31mNameError\u001b[0m: name 'make_query' is not defined"
     ]
    }
   ],
   "source": [
    "search_dict = make_query('actin network')\n",
    "found_pdbs = do_search(search_dict)\n",
    "print(found_pdbs)"
   ]
  },
  {
   "cell_type": "markdown",
   "metadata": {},
   "source": [
    "## Get a list of PDBs associated with a specific modified structure"
   ]
  },
  {
   "cell_type": "code",
   "execution_count": 3,
   "metadata": {
    "collapsed": false
   },
   "outputs": [
    {
     "name": "stdout",
     "output_type": "stream",
     "text": [
      "['2KDN', '2MRW', '2MSG', '2N0X', '2N0Y', '2W2I', '2WIT', '2XML', '3J9Y', '3MEB', '3OC9', '3TN2', '3X3B', '3X3C', '3ZM0', '3ZM1', '3ZM2', '3ZM3', '4BF9', '4BFA', '4CA9', '4CGQ', '4CQI', '4CZS', '4D3D', '4D3F', '4D3S', '4D7L', '4E8S', '4EB4', '4EU1', '4F40', '4FZI', '4G5D', '4GIE', '4MHE', '4MJ9', '4MPB', '4MPY', '4NEA', '4NU9', '4O72', '4P4V', '4P4W', '4P4X', '4P4Y', '4P4Z', '4P6C', '4P6D', '4P6P', '4P77', '4P8E', '4P8J', '4PA8', '4PEO', '4PG4', '4PG5', '4PG7', '4PG8', '4PH5', '4PJ1', '4PLJ', '4PLK', '4Q5Z', '4Q92', '4QDQ', '4QJE', '4QN2', '4QTO', '4QX4', '4RA8', '4RV9', '4S1D', '4TLV', '4TLW', '4TWE', '4TWP', '4TX2', '4TX3', '4U63', '4U7L', '4U7M', '4UF7', '4UG2', '4UHR', '4UMS', '4URI', '4UWX', '4UZ8', '4UZI', '4UZN', '4V2X', '4WC8', '4WEV', '4WG1', '4WG7', '4WL6', '4WL7', '4WMX', '4WOV', '4WXJ', '4WYL', '4WYW', '4WZM', '4WZQ', '4X0S', '4X2B', '4X60', '4X61', '4X63', '4XC5', '4XGU', '4XQ7', '4XTL', '4XTN', '4XTO', '4XW4', '4XW5', '4XW6', '4XXC', '4XXO', '4Y0J', '4Y0V', '4Y1L', '4Y83', '4Y85', '4YAY', '4YCO', '4YCP', '4YF4', '4YF5', '4YF6', '4YL8', '4YLI', '4YMD', '4YPG', '4YT6', '4YT7', '4YXW', '4Z1M', '5A1A', '5A1F', '5AEP', '5AEY', '5AFH', '5AFJ', '5AFK', '5AFL', '5AFM', '5AFN', '5AGQ', '5AHY', '5AHZ', '5AI7', '5AIE', '5AJD', '5AJV', '5AJW', '5AJX', '5AJY', '5AJZ', '5AK0', '5AK2']\n"
     ]
    }
   ],
   "source": [
    "search_dict = make_query('3W3D',querytype='ModifiedStructuresQuery')\n",
    "found_pdbs = do_search(search_dict)\n",
    "print(found_pdbs)"
   ]
  },
  {
   "cell_type": "markdown",
   "metadata": {},
   "source": [
    "## Get a list of PDBs associated with a specific experimental method"
   ]
  },
  {
   "cell_type": "code",
   "execution_count": 202,
   "metadata": {
    "collapsed": false
   },
   "outputs": [
    {
     "name": "stdout",
     "output_type": "stream",
     "text": [
      "['1CEK', '1EQ8', '1M8M', '1MAG', '1MP6', '1MZT', '1NH4', '1NYJ', '1PI7', '1PI8', '1PJD', '1PJE', '1PJF', '1Q7O', '1RVS', '1XSW', '1ZN5', '1ZY6', '2C0X', '2CZP', '2E8D', '2H3O', '2H95', '2JSV', '2JU6', '2JZZ', '2K0P', '2KAD', '2KB7', '2KHT', '2KIB', '2KJ3', '2KLR', '2KQ4', '2KQT', '2KRJ', '2KSJ', '2KWD', '2KYV', '2L0J', '2L3Z', '2LBU', '2LEG', '2LGI', '2LJ2', '2LME', '2LMN', '2LMO', '2LMP', '2LMQ', '2LNL', '2LNQ', '2LNY', '2LPZ', '2LTQ', '2LU5', '2M02', '2M3B', '2M3G', '2M4J', '2M5K', '2M5M', '2M5N', '2M67', '2MC7', '2MCU', '2MCV', '2MCW', '2MCX', '2MEX', '2MJZ', '2MME', '2MMU', '2MPZ', '2MSG', '2MTZ', '2MVX', '2MXU', '2NNT', '2RLZ', '2UVS', '2W0N', '2XKM', '3ZPK']\n"
     ]
    }
   ],
   "source": [
    "search_dict = make_query('SOLID-STATE NMR',querytype='ExpTypeQuery')\n",
    "found_pdbs = do_search(search_dict)\n",
    "print(found_pdbs)"
   ]
  },
  {
   "cell_type": "code",
   "execution_count": 7,
   "metadata": {
    "collapsed": false
   },
   "outputs": [
    {
     "data": {
      "text/plain": [
       "{'citation_authors': 'Malashkevich, V.N., Bhosle, R., Toro, R., Hillerich, B., Gizzi, A., Garforth, S., Kar, A., Chan, M.K., Lafluer, J., Patel, H., Matikainen, B., Chamala, S., Lim, S., Celikgil, A., Villegas, G., Evans, B., Love, J., Fiser, A., Khafizov, K., Seidel, R., Bonanno, J.B., Almo, S.C.',\n",
       " 'deposition_date': '2013-07-31',\n",
       " 'expMethod': 'X-RAY DIFFRACTION',\n",
       " 'keywords': 'TRANSFERASE',\n",
       " 'last_modification_date': '2013-08-14',\n",
       " 'nr_atoms': '0',\n",
       " 'nr_entities': '1',\n",
       " 'nr_residues': '390',\n",
       " 'release_date': '2013-08-14',\n",
       " 'resolution': '1.84',\n",
       " 'status': 'CURRENT',\n",
       " 'structureId': '4LZA',\n",
       " 'structure_authors': 'Malashkevich, V.N., Bhosle, R., Toro, R., Hillerich, B., Gizzi, A., Garforth, S., Kar, A., Chan, M.K., Lafluer, J., Patel, H., Matikainen, B., Chamala, S., Lim, S., Celikgil, A., Villegas, G., Evans, B., Love, J., Fiser, A., Khafizov, K., Seidel, R., Bonanno, J.B., Almo, S.C., New York Structural Genomics Research Consortium (NYSGRC)',\n",
       " 'title': 'Crystal structure of adenine phosphoribosyltransferase from Thermoanaerobacter pseudethanolicus ATCC 33223, NYSGRC Target 029700.'}"
      ]
     },
     "execution_count": 7,
     "metadata": {},
     "output_type": "execute_result"
    }
   ],
   "source": [
    "describe_pdb('4lza')"
   ]
  },
  {
   "cell_type": "markdown",
   "metadata": {},
   "source": [
    "## Estimate total number of depositions versus time"
   ]
  },
  {
   "cell_type": "code",
   "execution_count": 6,
   "metadata": {
    "collapsed": false
   },
   "outputs": [
    {
     "data": {
      "image/png": "[encoded data removed]",
      "text/plain": [
       "<matplotlib.figure.Figure at 0x1092eee80>"
      ]
     },
     "metadata": {},
     "output_type": "display_data"
    },
    {
     "data": {
      "text/plain": [
       "[<matplotlib.lines.Line2D at 0x10a2fdf60>]"
      ]
     },
     "execution_count": 6,
     "metadata": {},
     "output_type": "execute_result"
    },
    {
     "data": {
      "image/png": "[encoded data removed]",
      "text/plain": [
       "<matplotlib.figure.Figure at 0x109310dd8>"
      ]
     },
     "metadata": {},
     "output_type": "display_data"
    }
   ],
   "source": [
    "# Choose a random sample because we don't want to call the database for every single entry\n",
    "from random import choice\n",
    "\n",
    "all_pdbs = get_all()\n",
    "\n",
    "all_dates = list()\n",
    "\n",
    "for ii in range(100):\n",
    "    pdb_desc = describe_pdb( choice(all_pdbs) )\n",
    "    depdate = (pdb_desc['deposition_date'])\n",
    "    all_dates.append( int(depdate[:4]) )\n",
    "    \n",
    "all_dates = array(all_dates)\n",
    "\n",
    "figure()\n",
    "subs_v_time = hist(all_dates, max(all_dates)-min(all_dates))\n",
    "show(subs_v_time)   \n",
    "\n",
    "# Show power-law scaling\n",
    "figure()\n",
    "loglog(subs_v_time[0],'.')"
   ]
  },
  {
   "cell_type": "markdown",
   "metadata": {},
   "source": [
    "### Find the number of references to CRISPR over time"
   ]
  },
  {
   "cell_type": "code",
   "execution_count": 184,
   "metadata": {
    "collapsed": false
   },
   "outputs": [
    {
     "data": {
      "image/png": "[encoded data removed]",
      "text/plain": [
       "<matplotlib.figure.Figure at 0x109bd19e8>"
      ]
     },
     "metadata": {},
     "output_type": "display_data"
    }
   ],
   "source": [
    "search_dict = make_query('CRISPR')\n",
    "crispr_results = do_search(search_dict)\n",
    "\n",
    "\n",
    "all_pdbs = get_all()\n",
    "\n",
    "all_dates = list()\n",
    "\n",
    "for pdb in crispr_results:\n",
    "    pdb_desc = describe_pdb( pdb )\n",
    "    depdate = (pdb_desc['deposition_date'])\n",
    "    all_dates.append( int(depdate[:4]) )\n",
    "    \n",
    "all_dates = array(all_dates)\n",
    "subs_v_time = hist(all_dates, max(all_dates)-min(all_dates))\n",
    "show(subs_v_time)   "
   ]
  }
 ],
 "metadata": {
  "kernelspec": {
   "display_name": "Python 3",
   "language": "python",
   "name": "python3"
  },
  "language_info": {
   "codemirror_mode": {
    "name": "ipython",
    "version": 3
   },
   "file_extension": ".py",
   "mimetype": "text/x-python",
   "name": "python",
   "nbconvert_exporter": "python",
   "pygments_lexer": "ipython3",
   "version": "3.4.3"
  }
 },
 "nbformat": 4,
 "nbformat_minor": 0
}
