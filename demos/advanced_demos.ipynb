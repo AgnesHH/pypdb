{
 "cells": [
  {
   "cell_type": "markdown",
   "metadata": {},
   "source": [
    "# pypdb advanced demos\n",
    "\n",
    "This is a set of basic examples of the ways that algorithmic querying with PyPDB can be used to perform advanced search tasks. Most of these examples combine multiple functions in the API in order to perform searches based on the results of previous searches"
   ]
  },
  {
   "cell_type": "markdown",
   "metadata": {},
   "source": [
    "### Preamble"
   ]
  },
  {
   "cell_type": "code",
   "execution_count": 57,
   "metadata": {
    "collapsed": false
   },
   "outputs": [
    {
     "name": "stdout",
     "output_type": "stream",
     "text": [
      "Populating the interactive namespace from numpy and matplotlib\n"
     ]
    },
    {
     "name": "stderr",
     "output_type": "stream",
     "text": [
      "WARNING: pylab import has clobbered these variables: ['draw_if_interactive', 'loads', 'repeat']\n",
      "`%matplotlib` prevents importing * from pylab and numpy\n"
     ]
    }
   ],
   "source": [
    "%pylab inline\n",
    "from IPython.display import HTML\n",
    "\n",
    "from pypdb_TEMP import *\n",
    "\n",
    "import pprint\n",
    "\n",
    "# from pypdb import *"
   ]
  },
  {
   "cell_type": "code",
   "execution_count": 1,
   "metadata": {
    "collapsed": false
   },
   "outputs": [
    {
     "name": "stdout",
     "output_type": "stream",
     "text": [
      "Populating the interactive namespace from numpy and matplotlib\n"
     ]
    },
    {
     "ename": "ImportError",
     "evalue": "No module named 'pypdb'",
     "output_type": "error",
     "traceback": [
      "\u001b[0;31m---------------------------------------------------------------------------\u001b[0m",
      "\u001b[0;31mImportError\u001b[0m                               Traceback (most recent call last)",
      "\u001b[0;32m<ipython-input-1-ab54fe01a1a8>\u001b[0m in \u001b[0;36m<module>\u001b[0;34m()\u001b[0m\n\u001b[1;32m      6\u001b[0m \u001b[0;32mimport\u001b[0m \u001b[0mpprint\u001b[0m\u001b[0;34m\u001b[0m\u001b[0m\n\u001b[1;32m      7\u001b[0m \u001b[0;34m\u001b[0m\u001b[0m\n\u001b[0;32m----> 8\u001b[0;31m \u001b[0;32mfrom\u001b[0m \u001b[0mpypdb\u001b[0m \u001b[0;32mimport\u001b[0m \u001b[0;34m*\u001b[0m\u001b[0;34m\u001b[0m\u001b[0m\n\u001b[0m",
      "\u001b[0;31mImportError\u001b[0m: No module named 'pypdb'"
     ]
    }
   ],
   "source": [
    "%pylab inline\n",
    "from IPython.display import HTML\n",
    "\n",
    "# from pypdb.pypdb import *\n",
    "\n",
    "import pprint\n",
    "\n",
    "from pypdb import *"
   ]
  },
  {
   "cell_type": "code",
   "execution_count": 1,
   "metadata": {
    "collapsed": false,
    "scrolled": true
   },
   "outputs": [
    {
     "name": "stdout",
     "output_type": "stream",
     "text": [
      "Populating the interactive namespace from numpy and matplotlib\n"
     ]
    },
    {
     "ename": "ImportError",
     "evalue": "No module named 'pypdb.pypdb'; 'pypdb' is not a package",
     "output_type": "error",
     "traceback": [
      "\u001b[0;31m---------------------------------------------------------------------------\u001b[0m",
      "\u001b[0;31mAttributeError\u001b[0m                            Traceback (most recent call last)",
      "\u001b[0;32m/Users/william/miniconda/envs/py3env/lib/python3.4/importlib/_bootstrap.py\u001b[0m in \u001b[0;36m_find_and_load_unlocked\u001b[0;34m(name, import_)\u001b[0m\n",
      "\u001b[0;31mAttributeError\u001b[0m: 'module' object has no attribute '__path__'",
      "\nDuring handling of the above exception, another exception occurred:\n",
      "\u001b[0;31mImportError\u001b[0m                               Traceback (most recent call last)",
      "\u001b[0;32m<ipython-input-1-ea3b1d3c0174>\u001b[0m in \u001b[0;36m<module>\u001b[0;34m()\u001b[0m\n\u001b[1;32m      2\u001b[0m \u001b[0;32mfrom\u001b[0m \u001b[0mIPython\u001b[0m\u001b[0;34m.\u001b[0m\u001b[0mdisplay\u001b[0m \u001b[0;32mimport\u001b[0m \u001b[0mHTML\u001b[0m\u001b[0;34m\u001b[0m\u001b[0m\n\u001b[1;32m      3\u001b[0m \u001b[0;34m\u001b[0m\u001b[0m\n\u001b[0;32m----> 4\u001b[0;31m \u001b[0;32mfrom\u001b[0m \u001b[0mpypdb\u001b[0m\u001b[0;34m.\u001b[0m\u001b[0mpypdb\u001b[0m \u001b[0;32mimport\u001b[0m \u001b[0;34m*\u001b[0m\u001b[0;34m\u001b[0m\u001b[0m\n\u001b[0m\u001b[1;32m      5\u001b[0m \u001b[0;34m\u001b[0m\u001b[0m\n\u001b[1;32m      6\u001b[0m \u001b[0;32mimport\u001b[0m \u001b[0mpprint\u001b[0m\u001b[0;34m\u001b[0m\u001b[0m\n",
      "\u001b[0;31mImportError\u001b[0m: No module named 'pypdb.pypdb'; 'pypdb' is not a package"
     ]
    }
   ],
   "source": [
    "%pylab inline\n",
    "from IPython.display import HTML\n",
    "\n",
    "from pypdb.pypdb import *\n",
    "\n",
    "import pprint"
   ]
  },
  {
   "cell_type": "code",
   "execution_count": 78,
   "metadata": {
    "collapsed": false
   },
   "outputs": [
    {
     "name": "stdout",
     "output_type": "stream",
     "text": [
      "['MYOSIN II DICTYOSTELIUM DISCOIDEUM MOTOR DOMAIN S456Y BOUND WITH MGADP-BEFX',\n",
      " 'MYOSIN II DICTYOSTELIUM DISCOIDEUM MOTOR DOMAIN S456Y BOUND WITH MGADP-ALF4',\n",
      " 'DICTYOSTELIUM DISCOIDEUM MYOSIN II MOTOR DOMAIN S456E WITH BOUND MGADP-BEFX',\n",
      " 'MYOSIN II DICTYOSTELIUM DISCOIDEUM MOTOR DOMAIN S456E BOUND WITH MGADP-ALF4',\n",
      " 'The structural basis of blebbistatin inhibition and specificity for myosin '\n",
      " 'II']\n"
     ]
    }
   ],
   "source": [
    "result_gen = find_results_gen('bleb')\n",
    "pprint.pprint([item for item in result_gen][:5])"
   ]
  },
  {
   "cell_type": "code",
   "execution_count": 86,
   "metadata": {
    "collapsed": true
   },
   "outputs": [],
   "source": [
    "crispr_query = make_query('crispr')\n",
    "crispr_results = do_search(crispr_query)"
   ]
  },
  {
   "cell_type": "code",
   "execution_count": 90,
   "metadata": {
    "collapsed": false
   },
   "outputs": [
    {
     "name": "stdout",
     "output_type": "stream",
     "text": [
      "['protein', 'protein', 'protein', 'protein', 'protein']\n"
     ]
    }
   ],
   "source": [
    "print(list_types(crispr_results[:5]))"
   ]
  },
  {
   "cell_type": "markdown",
   "metadata": {},
   "source": [
    "### Look up structural information about the results of a BLAST search"
   ]
  },
  {
   "cell_type": "code",
   "execution_count": 70,
   "metadata": {
    "collapsed": false
   },
   "outputs": [
    {
     "name": "stdout",
     "output_type": "stream",
     "text": [
      "Structure of Thermus Thermophilus Cse3 bound to an RNA representing a product complex\n",
      "Structure of Thermus Thermophilus Cse3 bound to an RNA representing a pre-cleavage complex\n",
      "Structure of Thermus Thermophilus Cse3 bound to an RNA representing a product mimic complex\n",
      "STRUCTURE A OF CRISPR ENDORIBONUCLEASE CSE3 BOUND TO 19 NT RNA\n",
      "STRUCTURE B OF CRISPR ENDORIBONUCLEASE CSE3 BOUND TO 19 NT RNA\n",
      "STRUCTURE OF CRISPR ENDORIBONUCLEASE CSE3 BOUND TO 20 NT RNA\n",
      "Crystal structure of a CRISPR-associated protein from thermus thermophilus\n",
      "Crystal structure of the E. coli CRISPR RNA-guided surveillance complex, Cascade\n",
      "Crystal structure of a CRISPR RNA-guided surveillance complex, Cascade, bound to a ssDNA target\n",
      "Crystal structure of RNA-guided immune Cascade complex from E.coli\n",
      "Crystal structure of the CRISPR-associated protein Cas6e from Escherichia coli str. K-12\n"
     ]
    }
   ],
   "source": [
    "# Search for PDB IDs related to CRISPR\n",
    "crispr_query = make_query('crispr')\n",
    "crispr_results = do_search(crispr_query)\n",
    "\n",
    "# Run BLAST on the top result\n",
    "top_result = crispr_results[0]\n",
    "blast_hits = get_blast2(top_result)\n",
    "\n",
    "\n",
    "for item in blast_hits[0]:\n",
    "    pdbdesc = describe_pdb(item)\n",
    "    print(pdbdesc['title'])"
   ]
  },
  {
   "cell_type": "markdown",
   "metadata": {},
   "source": [
    "### Estimate total number of depositions versus time"
   ]
  },
  {
   "cell_type": "code",
   "execution_count": 4,
   "metadata": {
    "collapsed": false
   },
   "outputs": [
    {
     "data": {
      "image/png": "[encoded data removed]",
      "text/plain": [
       "<matplotlib.figure.Figure at 0x106612898>"
      ]
     },
     "metadata": {},
     "output_type": "display_data"
    },
    {
     "data": {
      "image/png": "[encoded data removed]",
      "text/plain": [
       "<matplotlib.figure.Figure at 0x1092bbe10>"
      ]
     },
     "metadata": {},
     "output_type": "display_data"
    }
   ],
   "source": [
    "# Choose a random sample because we don't want to call the database for every single entry\n",
    "from random import choice\n",
    "\n",
    "all_pdbs = get_all()\n",
    "\n",
    "all_dates = list()\n",
    "\n",
    "for ii in range(100):\n",
    "    pdb_desc = describe_pdb( choice(all_pdbs) )\n",
    "    depdate = (pdb_desc['deposition_date'])\n",
    "    all_dates.append( int(depdate[:4]) )\n",
    "    \n",
    "all_dates = array(all_dates)\n",
    "\n",
    "figure()\n",
    "subs_v_time = hist(all_dates, max(all_dates)-min(all_dates))\n",
    "show(subs_v_time)   \n",
    "\n",
    "# Show power-law scaling\n",
    "figure()\n",
    "subs_v_time_loglog = loglog(subs_v_time[0],'.')\n",
    "show(subs_v_time_loglog)"
   ]
  },
  {
   "cell_type": "markdown",
   "metadata": {},
   "source": [
    "### Graph new CRISPR entries versus time"
   ]
  },
  {
   "cell_type": "code",
   "execution_count": 54,
   "metadata": {
    "collapsed": false
   },
   "outputs": [
    {
     "data": {
      "image/png": "[encoded data removed]",
      "text/plain": [
       "<matplotlib.figure.Figure at 0x1099a8978>"
      ]
     },
     "metadata": {},
     "output_type": "display_data"
    }
   ],
   "source": [
    "# Perform search\n",
    "all_dates = find_dates('crispr', max_results=500)\n",
    "all_dates = array(all_dates)\n",
    "all_dates = array([int(depdate[:4]) for depdate in all_dates])\n",
    "subs_v_time = histogram(all_dates, max(all_dates)-min(all_dates))\n",
    "dates, num_entries = subs_v_time[1][1:], subs_v_time[0]\n",
    "popgraph = fill_between(dates, 0, num_entries)\n",
    "\n",
    "# Formatting the plots\n",
    "xlim([dates[0], dates[-1]] )\n",
    "gca().xaxis.set_major_formatter(FormatStrFormatter('%d'))\n",
    "xticks(fontweight='bold')\n",
    "yticks(fontweight='bold')\n",
    "xlabel('Year',fontweight='bold')\n",
    "ylabel('New PDB entries',fontweight='bold')\n",
    "show(popgraph)"
   ]
  },
  {
   "cell_type": "markdown",
   "metadata": {
    "collapsed": false
   },
   "source": [
    "### Sweep RMSD matching parameters"
   ]
  },
  {
   "cell_type": "code",
   "execution_count": 15,
   "metadata": {
    "collapsed": false
   },
   "outputs": [
    {
     "data": {
      "text/plain": [
       "<matplotlib.text.Text at 0x10a076668>"
      ]
     },
     "execution_count": 15,
     "metadata": {},
     "output_type": "execute_result"
    },
    {
     "data": {
      "image/png": "[encoded data removed]",
      "text/plain": [
       "<matplotlib.figure.Figure at 0x109648160>"
      ]
     },
     "metadata": {},
     "output_type": "display_data"
    }
   ],
   "source": [
    "point_group = 'C1'\n",
    "max_distance = 5.0\n",
    "npts = 20\n",
    "\n",
    "dist_vals = linspace(0.0, max_distance, npts)\n",
    "dx = dist_vals[1]-dist_vals[0]\n",
    "\n",
    "all_ids = []\n",
    "\n",
    "for dist_val in dist_vals:\n",
    "    idlist = do_protsym_search(point_group, min_rmsd=dist_val, max_rmsd=(dist_val+dx))\n",
    "    all_ids.append(idlist)\n",
    "    \n",
    "counts = array([len(item) for item in all_ids])\n",
    "show(semilogy(dist_vals, counts))\n",
    "title('Total results versus RMSD')\n",
    "xlabel('Radius (A)')\n",
    "ylabel('Number of results')"
   ]
  },
  {
   "cell_type": "markdown",
   "metadata": {},
   "source": [
    "## Find all associated organisms and\n",
    "## structure types for the results of a BLAST search"
   ]
  },
  {
   "cell_type": "code",
   "execution_count": 56,
   "metadata": {
    "collapsed": false
   },
   "outputs": [
    {
     "name": "stdout",
     "output_type": "stream",
     "text": [
      "['Thunnus thynnus',\n",
      " 'Thunnus thynnus',\n",
      " 'Thunnus thynnus',\n",
      " 'Trematomus bernacchii',\n",
      " 'Trematomus bernacchii']\n",
      "['protein', 'protein', 'protein', 'protein', 'protein']\n"
     ]
    }
   ],
   "source": [
    "# Search for PDB IDs related to CRISPR\n",
    "crispr_query = make_query('swim')\n",
    "crispr_results = do_search(crispr_query)\n",
    "\n",
    "# Run BLAST on the top result\n",
    "top_result = crispr_results[0]\n",
    "blast_hits = get_blast2(top_result)\n",
    "\n",
    "# Print list of associated taxa\n",
    "pprint.pprint(list_taxa(blast_hits[0][:5]))\n",
    "pprint.pprint(list_types(blast_hits[0][:5]))"
   ]
  },
  {
   "cell_type": "code",
   "execution_count": null,
   "metadata": {
    "collapsed": true
   },
   "outputs": [],
   "source": []
  }
 ],
 "metadata": {
  "kernelspec": {
   "display_name": "Python 3",
   "language": "python",
   "name": "python3"
  },
  "language_info": {
   "codemirror_mode": {
    "name": "ipython",
    "version": 3
   },
   "file_extension": ".py",
   "mimetype": "text/x-python",
   "name": "python",
   "nbconvert_exporter": "python",
   "pygments_lexer": "ipython3",
   "version": "3.4.3"
  }
 },
 "nbformat": 4,
 "nbformat_minor": 0
}
